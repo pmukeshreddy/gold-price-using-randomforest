{
  "cells": [
    {
      "cell_type": "markdown",
      "metadata": {
        "id": "view-in-github",
        "colab_type": "text"
      },
      "source": [
        "<a href=\"https://colab.research.google.com/github/pmukeshreddy/gold-price-using-randomforest/blob/main/project.ipynb\" target=\"_parent\"><img src=\"https://colab.research.google.com/assets/colab-badge.svg\" alt=\"Open In Colab\"/></a>"
      ]
    },
    {
      "cell_type": "code",
      "execution_count": 22,
      "metadata": {
        "id": "MOIXqIkjmisT"
      },
      "outputs": [],
      "source": [
        "import pandas as pd\n",
        "import matplotlib.pyplot as plt\n",
        "import seaborn as sns\n",
        "from sklearn.ensemble import RandomForestRegressor\n",
        "from sklearn.model_selection import train_test_split\n",
        "from sklearn.model_selection import ShuffleSplit\n",
        "from sklearn.model_selection import cross_val_score"
      ]
    },
    {
      "cell_type": "code",
      "execution_count": 4,
      "metadata": {
        "id": "oJlXPKuWmisW"
      },
      "outputs": [],
      "source": [
        "data=pd.read_csv(\"/content/drive/MyDrive/ml_projects/gold_price/gld_price_data.csv\")"
      ]
    },
    {
      "cell_type": "code",
      "source": [
        "from google.colab import drive\n",
        "drive.mount('/content/drive')"
      ],
      "metadata": {
        "colab": {
          "base_uri": "https://localhost:8080/"
        },
        "id": "YIQM9e4Nm486",
        "outputId": "06d289bb-f1af-4bbd-8419-4e353dc9d0ab"
      },
      "execution_count": 3,
      "outputs": [
        {
          "output_type": "stream",
          "name": "stdout",
          "text": [
            "Mounted at /content/drive\n"
          ]
        }
      ]
    },
    {
      "cell_type": "code",
      "execution_count": 5,
      "metadata": {
        "colab": {
          "base_uri": "https://localhost:8080/"
        },
        "id": "reugRBcxmisX",
        "outputId": "51fdb55d-aebf-412e-ace2-91ccce2f7edc"
      },
      "outputs": [
        {
          "output_type": "stream",
          "name": "stdout",
          "text": [
            "<class 'pandas.core.frame.DataFrame'>\n",
            "RangeIndex: 2290 entries, 0 to 2289\n",
            "Data columns (total 6 columns):\n",
            " #   Column   Non-Null Count  Dtype  \n",
            "---  ------   --------------  -----  \n",
            " 0   Date     2290 non-null   object \n",
            " 1   SPX      2290 non-null   float64\n",
            " 2   GLD      2290 non-null   float64\n",
            " 3   USO      2290 non-null   float64\n",
            " 4   SLV      2290 non-null   float64\n",
            " 5   EUR/USD  2290 non-null   float64\n",
            "dtypes: float64(5), object(1)\n",
            "memory usage: 107.5+ KB\n"
          ]
        }
      ],
      "source": [
        "data.info()"
      ]
    },
    {
      "cell_type": "code",
      "execution_count": 6,
      "metadata": {
        "colab": {
          "base_uri": "https://localhost:8080/"
        },
        "id": "vzMJD9hPmisX",
        "outputId": "c392f62b-f0ce-4ec2-ddea-899df95a89fa"
      },
      "outputs": [
        {
          "output_type": "execute_result",
          "data": {
            "text/plain": [
              "Date       0\n",
              "SPX        0\n",
              "GLD        0\n",
              "USO        0\n",
              "SLV        0\n",
              "EUR/USD    0\n",
              "dtype: int64"
            ]
          },
          "metadata": {},
          "execution_count": 6
        }
      ],
      "source": [
        "data.isnull().sum()"
      ]
    },
    {
      "cell_type": "code",
      "execution_count": 7,
      "metadata": {
        "colab": {
          "base_uri": "https://localhost:8080/",
          "height": 300
        },
        "id": "XgOFao1XmisY",
        "outputId": "3a95edba-7de2-471f-e86f-c205f48366c0"
      },
      "outputs": [
        {
          "output_type": "execute_result",
          "data": {
            "text/plain": [
              "               SPX          GLD          USO          SLV      EUR/USD\n",
              "count  2290.000000  2290.000000  2290.000000  2290.000000  2290.000000\n",
              "mean   1654.315776   122.732875    31.842221    20.084997     1.283653\n",
              "std     519.111540    23.283346    19.523517     7.092566     0.131547\n",
              "min     676.530029    70.000000     7.960000     8.850000     1.039047\n",
              "25%    1239.874969   109.725000    14.380000    15.570000     1.171313\n",
              "50%    1551.434998   120.580002    33.869999    17.268500     1.303297\n",
              "75%    2073.010070   132.840004    37.827501    22.882500     1.369971\n",
              "max    2872.870117   184.589996   117.480003    47.259998     1.598798"
            ],
            "text/html": [
              "\n",
              "  <div id=\"df-d225dcf3-7c99-4eed-b47f-450cbd17e84a\">\n",
              "    <div class=\"colab-df-container\">\n",
              "      <div>\n",
              "<style scoped>\n",
              "    .dataframe tbody tr th:only-of-type {\n",
              "        vertical-align: middle;\n",
              "    }\n",
              "\n",
              "    .dataframe tbody tr th {\n",
              "        vertical-align: top;\n",
              "    }\n",
              "\n",
              "    .dataframe thead th {\n",
              "        text-align: right;\n",
              "    }\n",
              "</style>\n",
              "<table border=\"1\" class=\"dataframe\">\n",
              "  <thead>\n",
              "    <tr style=\"text-align: right;\">\n",
              "      <th></th>\n",
              "      <th>SPX</th>\n",
              "      <th>GLD</th>\n",
              "      <th>USO</th>\n",
              "      <th>SLV</th>\n",
              "      <th>EUR/USD</th>\n",
              "    </tr>\n",
              "  </thead>\n",
              "  <tbody>\n",
              "    <tr>\n",
              "      <th>count</th>\n",
              "      <td>2290.000000</td>\n",
              "      <td>2290.000000</td>\n",
              "      <td>2290.000000</td>\n",
              "      <td>2290.000000</td>\n",
              "      <td>2290.000000</td>\n",
              "    </tr>\n",
              "    <tr>\n",
              "      <th>mean</th>\n",
              "      <td>1654.315776</td>\n",
              "      <td>122.732875</td>\n",
              "      <td>31.842221</td>\n",
              "      <td>20.084997</td>\n",
              "      <td>1.283653</td>\n",
              "    </tr>\n",
              "    <tr>\n",
              "      <th>std</th>\n",
              "      <td>519.111540</td>\n",
              "      <td>23.283346</td>\n",
              "      <td>19.523517</td>\n",
              "      <td>7.092566</td>\n",
              "      <td>0.131547</td>\n",
              "    </tr>\n",
              "    <tr>\n",
              "      <th>min</th>\n",
              "      <td>676.530029</td>\n",
              "      <td>70.000000</td>\n",
              "      <td>7.960000</td>\n",
              "      <td>8.850000</td>\n",
              "      <td>1.039047</td>\n",
              "    </tr>\n",
              "    <tr>\n",
              "      <th>25%</th>\n",
              "      <td>1239.874969</td>\n",
              "      <td>109.725000</td>\n",
              "      <td>14.380000</td>\n",
              "      <td>15.570000</td>\n",
              "      <td>1.171313</td>\n",
              "    </tr>\n",
              "    <tr>\n",
              "      <th>50%</th>\n",
              "      <td>1551.434998</td>\n",
              "      <td>120.580002</td>\n",
              "      <td>33.869999</td>\n",
              "      <td>17.268500</td>\n",
              "      <td>1.303297</td>\n",
              "    </tr>\n",
              "    <tr>\n",
              "      <th>75%</th>\n",
              "      <td>2073.010070</td>\n",
              "      <td>132.840004</td>\n",
              "      <td>37.827501</td>\n",
              "      <td>22.882500</td>\n",
              "      <td>1.369971</td>\n",
              "    </tr>\n",
              "    <tr>\n",
              "      <th>max</th>\n",
              "      <td>2872.870117</td>\n",
              "      <td>184.589996</td>\n",
              "      <td>117.480003</td>\n",
              "      <td>47.259998</td>\n",
              "      <td>1.598798</td>\n",
              "    </tr>\n",
              "  </tbody>\n",
              "</table>\n",
              "</div>\n",
              "      <button class=\"colab-df-convert\" onclick=\"convertToInteractive('df-d225dcf3-7c99-4eed-b47f-450cbd17e84a')\"\n",
              "              title=\"Convert this dataframe to an interactive table.\"\n",
              "              style=\"display:none;\">\n",
              "        \n",
              "  <svg xmlns=\"http://www.w3.org/2000/svg\" height=\"24px\"viewBox=\"0 0 24 24\"\n",
              "       width=\"24px\">\n",
              "    <path d=\"M0 0h24v24H0V0z\" fill=\"none\"/>\n",
              "    <path d=\"M18.56 5.44l.94 2.06.94-2.06 2.06-.94-2.06-.94-.94-2.06-.94 2.06-2.06.94zm-11 1L8.5 8.5l.94-2.06 2.06-.94-2.06-.94L8.5 2.5l-.94 2.06-2.06.94zm10 10l.94 2.06.94-2.06 2.06-.94-2.06-.94-.94-2.06-.94 2.06-2.06.94z\"/><path d=\"M17.41 7.96l-1.37-1.37c-.4-.4-.92-.59-1.43-.59-.52 0-1.04.2-1.43.59L10.3 9.45l-7.72 7.72c-.78.78-.78 2.05 0 2.83L4 21.41c.39.39.9.59 1.41.59.51 0 1.02-.2 1.41-.59l7.78-7.78 2.81-2.81c.8-.78.8-2.07 0-2.86zM5.41 20L4 18.59l7.72-7.72 1.47 1.35L5.41 20z\"/>\n",
              "  </svg>\n",
              "      </button>\n",
              "      \n",
              "  <style>\n",
              "    .colab-df-container {\n",
              "      display:flex;\n",
              "      flex-wrap:wrap;\n",
              "      gap: 12px;\n",
              "    }\n",
              "\n",
              "    .colab-df-convert {\n",
              "      background-color: #E8F0FE;\n",
              "      border: none;\n",
              "      border-radius: 50%;\n",
              "      cursor: pointer;\n",
              "      display: none;\n",
              "      fill: #1967D2;\n",
              "      height: 32px;\n",
              "      padding: 0 0 0 0;\n",
              "      width: 32px;\n",
              "    }\n",
              "\n",
              "    .colab-df-convert:hover {\n",
              "      background-color: #E2EBFA;\n",
              "      box-shadow: 0px 1px 2px rgba(60, 64, 67, 0.3), 0px 1px 3px 1px rgba(60, 64, 67, 0.15);\n",
              "      fill: #174EA6;\n",
              "    }\n",
              "\n",
              "    [theme=dark] .colab-df-convert {\n",
              "      background-color: #3B4455;\n",
              "      fill: #D2E3FC;\n",
              "    }\n",
              "\n",
              "    [theme=dark] .colab-df-convert:hover {\n",
              "      background-color: #434B5C;\n",
              "      box-shadow: 0px 1px 3px 1px rgba(0, 0, 0, 0.15);\n",
              "      filter: drop-shadow(0px 1px 2px rgba(0, 0, 0, 0.3));\n",
              "      fill: #FFFFFF;\n",
              "    }\n",
              "  </style>\n",
              "\n",
              "      <script>\n",
              "        const buttonEl =\n",
              "          document.querySelector('#df-d225dcf3-7c99-4eed-b47f-450cbd17e84a button.colab-df-convert');\n",
              "        buttonEl.style.display =\n",
              "          google.colab.kernel.accessAllowed ? 'block' : 'none';\n",
              "\n",
              "        async function convertToInteractive(key) {\n",
              "          const element = document.querySelector('#df-d225dcf3-7c99-4eed-b47f-450cbd17e84a');\n",
              "          const dataTable =\n",
              "            await google.colab.kernel.invokeFunction('convertToInteractive',\n",
              "                                                     [key], {});\n",
              "          if (!dataTable) return;\n",
              "\n",
              "          const docLinkHtml = 'Like what you see? Visit the ' +\n",
              "            '<a target=\"_blank\" href=https://colab.research.google.com/notebooks/data_table.ipynb>data table notebook</a>'\n",
              "            + ' to learn more about interactive tables.';\n",
              "          element.innerHTML = '';\n",
              "          dataTable['output_type'] = 'display_data';\n",
              "          await google.colab.output.renderOutput(dataTable, element);\n",
              "          const docLink = document.createElement('div');\n",
              "          docLink.innerHTML = docLinkHtml;\n",
              "          element.appendChild(docLink);\n",
              "        }\n",
              "      </script>\n",
              "    </div>\n",
              "  </div>\n",
              "  "
            ]
          },
          "metadata": {},
          "execution_count": 7
        }
      ],
      "source": [
        "data.describe()"
      ]
    },
    {
      "cell_type": "code",
      "execution_count": 8,
      "metadata": {
        "colab": {
          "base_uri": "https://localhost:8080/",
          "height": 206
        },
        "id": "g0iQvPPVmisY",
        "outputId": "0d593422-ba22-4caa-affd-1a4c8c9eb953"
      },
      "outputs": [
        {
          "output_type": "execute_result",
          "data": {
            "text/plain": [
              "       Date          SPX        GLD        USO     SLV   EUR/USD\n",
              "0  1/2/2008  1447.160034  84.860001  78.470001  15.180  1.471692\n",
              "1  1/3/2008  1447.160034  85.570000  78.370003  15.285  1.474491\n",
              "2  1/4/2008  1411.630005  85.129997  77.309998  15.167  1.475492\n",
              "3  1/7/2008  1416.180054  84.769997  75.500000  15.053  1.468299\n",
              "4  1/8/2008  1390.189941  86.779999  76.059998  15.590  1.557099"
            ],
            "text/html": [
              "\n",
              "  <div id=\"df-3462c7ba-a0fa-46de-9b1b-8be6905d182c\">\n",
              "    <div class=\"colab-df-container\">\n",
              "      <div>\n",
              "<style scoped>\n",
              "    .dataframe tbody tr th:only-of-type {\n",
              "        vertical-align: middle;\n",
              "    }\n",
              "\n",
              "    .dataframe tbody tr th {\n",
              "        vertical-align: top;\n",
              "    }\n",
              "\n",
              "    .dataframe thead th {\n",
              "        text-align: right;\n",
              "    }\n",
              "</style>\n",
              "<table border=\"1\" class=\"dataframe\">\n",
              "  <thead>\n",
              "    <tr style=\"text-align: right;\">\n",
              "      <th></th>\n",
              "      <th>Date</th>\n",
              "      <th>SPX</th>\n",
              "      <th>GLD</th>\n",
              "      <th>USO</th>\n",
              "      <th>SLV</th>\n",
              "      <th>EUR/USD</th>\n",
              "    </tr>\n",
              "  </thead>\n",
              "  <tbody>\n",
              "    <tr>\n",
              "      <th>0</th>\n",
              "      <td>1/2/2008</td>\n",
              "      <td>1447.160034</td>\n",
              "      <td>84.860001</td>\n",
              "      <td>78.470001</td>\n",
              "      <td>15.180</td>\n",
              "      <td>1.471692</td>\n",
              "    </tr>\n",
              "    <tr>\n",
              "      <th>1</th>\n",
              "      <td>1/3/2008</td>\n",
              "      <td>1447.160034</td>\n",
              "      <td>85.570000</td>\n",
              "      <td>78.370003</td>\n",
              "      <td>15.285</td>\n",
              "      <td>1.474491</td>\n",
              "    </tr>\n",
              "    <tr>\n",
              "      <th>2</th>\n",
              "      <td>1/4/2008</td>\n",
              "      <td>1411.630005</td>\n",
              "      <td>85.129997</td>\n",
              "      <td>77.309998</td>\n",
              "      <td>15.167</td>\n",
              "      <td>1.475492</td>\n",
              "    </tr>\n",
              "    <tr>\n",
              "      <th>3</th>\n",
              "      <td>1/7/2008</td>\n",
              "      <td>1416.180054</td>\n",
              "      <td>84.769997</td>\n",
              "      <td>75.500000</td>\n",
              "      <td>15.053</td>\n",
              "      <td>1.468299</td>\n",
              "    </tr>\n",
              "    <tr>\n",
              "      <th>4</th>\n",
              "      <td>1/8/2008</td>\n",
              "      <td>1390.189941</td>\n",
              "      <td>86.779999</td>\n",
              "      <td>76.059998</td>\n",
              "      <td>15.590</td>\n",
              "      <td>1.557099</td>\n",
              "    </tr>\n",
              "  </tbody>\n",
              "</table>\n",
              "</div>\n",
              "      <button class=\"colab-df-convert\" onclick=\"convertToInteractive('df-3462c7ba-a0fa-46de-9b1b-8be6905d182c')\"\n",
              "              title=\"Convert this dataframe to an interactive table.\"\n",
              "              style=\"display:none;\">\n",
              "        \n",
              "  <svg xmlns=\"http://www.w3.org/2000/svg\" height=\"24px\"viewBox=\"0 0 24 24\"\n",
              "       width=\"24px\">\n",
              "    <path d=\"M0 0h24v24H0V0z\" fill=\"none\"/>\n",
              "    <path d=\"M18.56 5.44l.94 2.06.94-2.06 2.06-.94-2.06-.94-.94-2.06-.94 2.06-2.06.94zm-11 1L8.5 8.5l.94-2.06 2.06-.94-2.06-.94L8.5 2.5l-.94 2.06-2.06.94zm10 10l.94 2.06.94-2.06 2.06-.94-2.06-.94-.94-2.06-.94 2.06-2.06.94z\"/><path d=\"M17.41 7.96l-1.37-1.37c-.4-.4-.92-.59-1.43-.59-.52 0-1.04.2-1.43.59L10.3 9.45l-7.72 7.72c-.78.78-.78 2.05 0 2.83L4 21.41c.39.39.9.59 1.41.59.51 0 1.02-.2 1.41-.59l7.78-7.78 2.81-2.81c.8-.78.8-2.07 0-2.86zM5.41 20L4 18.59l7.72-7.72 1.47 1.35L5.41 20z\"/>\n",
              "  </svg>\n",
              "      </button>\n",
              "      \n",
              "  <style>\n",
              "    .colab-df-container {\n",
              "      display:flex;\n",
              "      flex-wrap:wrap;\n",
              "      gap: 12px;\n",
              "    }\n",
              "\n",
              "    .colab-df-convert {\n",
              "      background-color: #E8F0FE;\n",
              "      border: none;\n",
              "      border-radius: 50%;\n",
              "      cursor: pointer;\n",
              "      display: none;\n",
              "      fill: #1967D2;\n",
              "      height: 32px;\n",
              "      padding: 0 0 0 0;\n",
              "      width: 32px;\n",
              "    }\n",
              "\n",
              "    .colab-df-convert:hover {\n",
              "      background-color: #E2EBFA;\n",
              "      box-shadow: 0px 1px 2px rgba(60, 64, 67, 0.3), 0px 1px 3px 1px rgba(60, 64, 67, 0.15);\n",
              "      fill: #174EA6;\n",
              "    }\n",
              "\n",
              "    [theme=dark] .colab-df-convert {\n",
              "      background-color: #3B4455;\n",
              "      fill: #D2E3FC;\n",
              "    }\n",
              "\n",
              "    [theme=dark] .colab-df-convert:hover {\n",
              "      background-color: #434B5C;\n",
              "      box-shadow: 0px 1px 3px 1px rgba(0, 0, 0, 0.15);\n",
              "      filter: drop-shadow(0px 1px 2px rgba(0, 0, 0, 0.3));\n",
              "      fill: #FFFFFF;\n",
              "    }\n",
              "  </style>\n",
              "\n",
              "      <script>\n",
              "        const buttonEl =\n",
              "          document.querySelector('#df-3462c7ba-a0fa-46de-9b1b-8be6905d182c button.colab-df-convert');\n",
              "        buttonEl.style.display =\n",
              "          google.colab.kernel.accessAllowed ? 'block' : 'none';\n",
              "\n",
              "        async function convertToInteractive(key) {\n",
              "          const element = document.querySelector('#df-3462c7ba-a0fa-46de-9b1b-8be6905d182c');\n",
              "          const dataTable =\n",
              "            await google.colab.kernel.invokeFunction('convertToInteractive',\n",
              "                                                     [key], {});\n",
              "          if (!dataTable) return;\n",
              "\n",
              "          const docLinkHtml = 'Like what you see? Visit the ' +\n",
              "            '<a target=\"_blank\" href=https://colab.research.google.com/notebooks/data_table.ipynb>data table notebook</a>'\n",
              "            + ' to learn more about interactive tables.';\n",
              "          element.innerHTML = '';\n",
              "          dataTable['output_type'] = 'display_data';\n",
              "          await google.colab.output.renderOutput(dataTable, element);\n",
              "          const docLink = document.createElement('div');\n",
              "          docLink.innerHTML = docLinkHtml;\n",
              "          element.appendChild(docLink);\n",
              "        }\n",
              "      </script>\n",
              "    </div>\n",
              "  </div>\n",
              "  "
            ]
          },
          "metadata": {},
          "execution_count": 8
        }
      ],
      "source": [
        "data.head()"
      ]
    },
    {
      "cell_type": "code",
      "execution_count": 9,
      "metadata": {
        "colab": {
          "base_uri": "https://localhost:8080/"
        },
        "id": "J_73m9pAmisY",
        "outputId": "454934bd-5e62-4857-9870-63c9418a6f32"
      },
      "outputs": [
        {
          "output_type": "execute_result",
          "data": {
            "text/plain": [
              "(2290, 6)"
            ]
          },
          "metadata": {},
          "execution_count": 9
        }
      ],
      "source": [
        "data.shape"
      ]
    },
    {
      "cell_type": "code",
      "execution_count": 10,
      "metadata": {
        "id": "DvwGmXKjmisY"
      },
      "outputs": [],
      "source": [
        "correlation=data.corr()"
      ]
    },
    {
      "cell_type": "code",
      "execution_count": 11,
      "metadata": {
        "colab": {
          "base_uri": "https://localhost:8080/",
          "height": 325
        },
        "id": "Z75nFdU_misZ",
        "outputId": "30a37428-355f-4202-e43c-50006de3a5bb"
      },
      "outputs": [
        {
          "output_type": "execute_result",
          "data": {
            "text/plain": [
              "<matplotlib.axes._subplots.AxesSubplot at 0x7f43a7e3af70>"
            ]
          },
          "metadata": {},
          "execution_count": 11
        },
        {
          "output_type": "display_data",
          "data": {
            "text/plain": [
              "<Figure size 360x360 with 2 Axes>"
            ],
            "image/png": "[encoded data removed]"
          },
          "metadata": {
            "needs_background": "light"
          }
        }
      ],
      "source": [
        "plt.figure(figsize=(5,5))\n",
        "sns.heatmap(correlation,square=True,cbar=True,fmt='.1f',annot=True,annot_kws={'size':8},cmap='Blues')"
      ]
    },
    {
      "cell_type": "code",
      "execution_count": 12,
      "metadata": {
        "colab": {
          "base_uri": "https://localhost:8080/"
        },
        "id": "5FWh5sNymisZ",
        "outputId": "291a2277-4bd9-4159-f836-fb615e76aec9"
      },
      "outputs": [
        {
          "output_type": "stream",
          "name": "stdout",
          "text": [
            "SPX        0.049345\n",
            "GLD        1.000000\n",
            "USO       -0.186360\n",
            "SLV        0.866632\n",
            "EUR/USD   -0.024375\n",
            "Name: GLD, dtype: float64\n"
          ]
        }
      ],
      "source": [
        "print(correlation[\"GLD\"])"
      ]
    },
    {
      "cell_type": "code",
      "execution_count": 13,
      "metadata": {
        "colab": {
          "base_uri": "https://localhost:8080/",
          "height": 357
        },
        "id": "li3Vw8QnmisZ",
        "outputId": "9353c5c5-8895-45c6-8969-d8ed0516e1a0"
      },
      "outputs": [
        {
          "output_type": "stream",
          "name": "stderr",
          "text": [
            "/usr/local/lib/python3.8/dist-packages/seaborn/distributions.py:2619: FutureWarning: `distplot` is a deprecated function and will be removed in a future version. Please adapt your code to use either `displot` (a figure-level function with similar flexibility) or `histplot` (an axes-level function for histograms).\n",
            "  warnings.warn(msg, FutureWarning)\n"
          ]
        },
        {
          "output_type": "execute_result",
          "data": {
            "text/plain": [
              "<matplotlib.axes._subplots.AxesSubplot at 0x7f43a551f7f0>"
            ]
          },
          "metadata": {},
          "execution_count": 13
        },
        {
          "output_type": "display_data",
          "data": {
            "text/plain": [
              "<Figure size 432x288 with 1 Axes>"
            ],
            "image/png": "[encoded data removed]"
          },
          "metadata": {
            "needs_background": "light"
          }
        }
      ],
      "source": [
        "sns.distplot(data[\"GLD\"],color='green')"
      ]
    },
    {
      "cell_type": "code",
      "execution_count": 14,
      "metadata": {
        "id": "Xjo6UZLSmisa"
      },
      "outputs": [],
      "source": [
        "x = data.drop([\"GLD\",\"Date\"],axis=1)\n",
        "y = data[\"GLD\"]"
      ]
    },
    {
      "cell_type": "code",
      "execution_count": 15,
      "metadata": {
        "colab": {
          "base_uri": "https://localhost:8080/"
        },
        "id": "adiTOUMBmisa",
        "outputId": "b9e738b1-955e-4567-894f-5a007d1c6f7a"
      },
      "outputs": [
        {
          "output_type": "stream",
          "name": "stdout",
          "text": [
            "              SPX        USO      SLV   EUR/USD\n",
            "0     1447.160034  78.470001  15.1800  1.471692\n",
            "1     1447.160034  78.370003  15.2850  1.474491\n",
            "2     1411.630005  77.309998  15.1670  1.475492\n",
            "3     1416.180054  75.500000  15.0530  1.468299\n",
            "4     1390.189941  76.059998  15.5900  1.557099\n",
            "...           ...        ...      ...       ...\n",
            "2285  2671.919922  14.060000  15.5100  1.186789\n",
            "2286  2697.790039  14.370000  15.5300  1.184722\n",
            "2287  2723.070068  14.410000  15.7400  1.191753\n",
            "2288  2730.129883  14.380000  15.5600  1.193118\n",
            "2289  2725.780029  14.405800  15.4542  1.182033\n",
            "\n",
            "[2290 rows x 4 columns]\n"
          ]
        }
      ],
      "source": [
        "print(x)"
      ]
    },
    {
      "cell_type": "code",
      "execution_count": 16,
      "metadata": {
        "colab": {
          "base_uri": "https://localhost:8080/"
        },
        "id": "JFJcHRhjmisa",
        "outputId": "f2792452-836a-4d9c-9708-480a9a8cb3c2"
      },
      "outputs": [
        {
          "output_type": "stream",
          "name": "stdout",
          "text": [
            "0        84.860001\n",
            "1        85.570000\n",
            "2        85.129997\n",
            "3        84.769997\n",
            "4        86.779999\n",
            "           ...    \n",
            "2285    124.589996\n",
            "2286    124.330002\n",
            "2287    125.180000\n",
            "2288    124.489998\n",
            "2289    122.543800\n",
            "Name: GLD, Length: 2290, dtype: float64\n"
          ]
        }
      ],
      "source": [
        "print(y)"
      ]
    },
    {
      "cell_type": "code",
      "execution_count": 17,
      "metadata": {
        "colab": {
          "base_uri": "https://localhost:8080/"
        },
        "id": "OKfTFU2cmisa",
        "outputId": "c98dbd5b-9b21-4126-c24b-943d0e537006"
      },
      "outputs": [
        {
          "output_type": "stream",
          "name": "stdout",
          "text": [
            "(1832, 4) (458, 4) (2290, 4)\n"
          ]
        }
      ],
      "source": [
        "x_train,x_test,y_train,y_test=train_test_split(x,y,test_size=0.2,random_state=2)\n",
        "print(x_train.shape,x_test.shape,x.shape)"
      ]
    },
    {
      "cell_type": "code",
      "execution_count": 18,
      "metadata": {
        "colab": {
          "base_uri": "https://localhost:8080/"
        },
        "id": "S2Ax7VIrmisa",
        "outputId": "e234f9b4-f07b-4868-8531-fdd7198ffc9f"
      },
      "outputs": [
        {
          "output_type": "execute_result",
          "data": {
            "text/plain": [
              "RandomForestRegressor()"
            ]
          },
          "metadata": {},
          "execution_count": 18
        }
      ],
      "source": [
        "regressor=RandomForestRegressor(n_estimators=100)\n",
        "regressor.fit(x_train,y_train)"
      ]
    },
    {
      "cell_type": "code",
      "execution_count": 19,
      "metadata": {
        "colab": {
          "base_uri": "https://localhost:8080/"
        },
        "id": "Z2P_vPcFmisb",
        "outputId": "75ac7cf5-b792-431f-a1a3-b954239bb9cb"
      },
      "outputs": [
        {
          "output_type": "execute_result",
          "data": {
            "text/plain": [
              "array([168.55309883,  82.2779999 , 115.94950014, 127.68690073,\n",
              "       120.76910132, 154.67579802, 150.12599932, 125.9162006 ,\n",
              "       117.54249877, 125.9140006 , 116.67120115, 172.41590069,\n",
              "       142.24619842, 167.66579834, 115.11459979, 117.72980048,\n",
              "       139.24980301, 169.7047019 , 159.78800386, 160.30879951,\n",
              "       155.02710049, 125.01089991, 176.16329902, 157.53700427,\n",
              "       125.28500013,  93.68760014,  77.21180042, 120.7589    ,\n",
              "       119.09269911, 167.47489987,  88.1805002 , 125.14849985,\n",
              "        91.13540064, 117.73280015, 121.04049924, 136.2334008 ,\n",
              "       115.50130129, 114.76690092, 146.92089997, 107.21740085,\n",
              "       104.23250241,  87.22039773, 126.51900044, 118.11840017,\n",
              "       152.31809938, 119.77659976, 108.29680003, 108.14749809,\n",
              "        93.09710022, 127.03399822,  74.75430027, 113.76009938,\n",
              "       121.2301999 , 111.42309866, 118.90429877, 120.98189896,\n",
              "       159.58749947, 168.89110138, 146.99779646,  85.67359844,\n",
              "        94.35040024,  86.90159903,  90.53949994, 119.0913005 ,\n",
              "       126.45310114, 127.59920014, 169.51099997, 122.23809936,\n",
              "       117.19429929,  98.56610006, 168.52750171, 143.00919897,\n",
              "       131.88250236, 121.24180228, 120.96749952, 119.67320057,\n",
              "       114.40940155, 118.30620042, 107.10840086, 127.8229008 ,\n",
              "       113.88939973, 107.36939998, 116.56280064, 119.49429903,\n",
              "        88.80960078,  88.32859856, 146.82830231, 127.15690045,\n",
              "       113.71660005, 110.10029851, 108.30629917,  76.86779922,\n",
              "       169.51660243, 114.08499919, 121.55509888, 127.94440191,\n",
              "       154.83889817,  91.88240016, 136.97680174, 158.84740319,\n",
              "       125.58690077, 125.28240072, 130.92640196, 114.71930119,\n",
              "       119.77489991,  92.13269954, 110.15969871, 168.3887003 ,\n",
              "       157.23379867, 114.26099972, 106.85800118,  79.30899983,\n",
              "       113.29460051, 125.88510071, 107.53989918, 119.2175009 ,\n",
              "       155.0631032 , 159.07729845, 120.13210003, 133.85480358,\n",
              "       101.51679992, 117.48969787, 119.25560031, 112.92870075,\n",
              "       102.74829934, 160.32649796,  98.87930023, 148.47709905,\n",
              "       125.13160087, 169.72869939, 126.1249985 , 127.36669745,\n",
              "       127.37830198, 113.84839931, 112.97940055, 123.70979847,\n",
              "       102.22809898,  89.49609952, 124.5204997 , 101.89769969,\n",
              "       106.99109895, 113.33010066, 117.30700024,  99.11619923,\n",
              "       121.92460048, 162.72409856,  87.48729871, 106.51089968,\n",
              "       117.06950107, 127.65360149, 124.06570068,  80.59219918,\n",
              "       120.70730077, 157.67669824,  87.89729982, 110.2818995 ,\n",
              "       118.98589925, 172.44079868, 103.04919909, 106.2221001 ,\n",
              "       122.7226003 , 157.80389745,  87.72529802,  93.29480041,\n",
              "       112.7039005 , 177.40289859, 114.70519996, 119.17320024,\n",
              "        94.72000105, 125.93720015, 165.81570068, 114.84850097,\n",
              "       116.57700162,  88.39799864, 148.98210159, 120.3691996 ,\n",
              "        89.56450021, 112.55609987, 117.43519998, 118.69790118,\n",
              "        88.09049941,  94.2337    , 117.05059998, 118.48670165,\n",
              "       120.19370024, 126.66539808, 121.93559977, 148.79789979,\n",
              "       164.82940063, 118.48679961, 120.25520166, 151.29340011,\n",
              "       118.23479863, 172.99879872, 104.99049932, 104.92630128,\n",
              "       149.47120194, 113.68990052, 124.75680133, 147.44019959,\n",
              "       119.55610116, 115.36870041, 112.78239992, 113.42700187,\n",
              "       142.78140147, 117.94479762, 103.00160013, 115.86580146,\n",
              "       103.63260185,  99.03720016, 117.3596008 ,  90.66210018,\n",
              "        91.61560062, 153.18839971, 102.71469996, 154.76160102,\n",
              "       114.28660133, 139.2112012 ,  90.2564983 , 115.45509959,\n",
              "       114.40749978, 122.79680077, 121.59539999, 165.29680189,\n",
              "        92.83609948, 135.61250151, 121.33389963, 120.66990041,\n",
              "       104.34469997, 142.84890251, 121.80309888, 116.69370054,\n",
              "       113.46660072, 127.22599692, 122.9145995 , 125.76289942,\n",
              "       121.22630067,  86.83089896, 132.16260094, 144.19050171,\n",
              "        92.73969927, 161.2948991 , 159.26930285, 126.13599875,\n",
              "       164.37529952, 108.91209968, 109.98840089, 103.58309819,\n",
              "        94.37910067, 128.09930302, 107.17130056, 162.93279963,\n",
              "       121.85590013, 131.89990017, 130.9156015 , 160.83179982,\n",
              "        90.21579864, 174.94880149, 127.47020051, 126.67399841,\n",
              "        86.37949928, 124.63909935, 150.13759726,  89.63660037,\n",
              "       106.63249995, 109.00219969,  84.74799902, 135.7156005 ,\n",
              "       155.00100293, 139.41970282,  73.65290045, 152.42890108,\n",
              "       125.97699902, 126.77230018, 127.45869869, 108.5048994 ,\n",
              "       156.20539985, 114.38650099, 116.94820144, 124.96599939,\n",
              "       154.02790184, 121.33249999, 156.40419836,  92.98010091,\n",
              "       125.62650152, 125.66530064,  87.91780055,  92.28269927,\n",
              "       126.26949913, 128.16950327, 113.15530091, 117.67079713,\n",
              "       120.8455    , 127.17719794, 119.49570114, 136.37380041,\n",
              "        94.08019976, 119.7773005 , 113.06560089,  94.34379969,\n",
              "       108.71099971,  87.07039935, 108.59159918,  89.59550009,\n",
              "        92.42989987, 131.99520293, 162.61950023,  89.18149994,\n",
              "       119.48700094, 133.45570192, 123.99550014, 128.30300156,\n",
              "       102.09979838,  88.98859886, 131.70340063, 119.61860058,\n",
              "       108.62119978, 168.14920068, 115.11450011,  86.62459886,\n",
              "       118.91330061,  90.96569973, 161.70900017, 116.58210034,\n",
              "       121.60309978, 160.16529808, 120.0186995 , 112.75519938,\n",
              "       108.46729892, 126.67639969,  76.05800001, 103.00079989,\n",
              "       127.81400322, 121.7345991 ,  92.56609995, 132.10340085,\n",
              "       118.14580116, 115.94659966, 154.74010298, 159.8690007 ,\n",
              "       110.26919906, 154.99709803, 119.28320104, 160.34060088,\n",
              "       118.66389994, 157.86689876, 115.06229973, 116.41570027,\n",
              "       151.21979879, 114.77610077, 125.94429863, 165.22289903,\n",
              "       117.92590008, 125.22779926, 153.26000372, 153.44200252,\n",
              "       132.05440007, 114.79499998, 121.28790208, 124.96390078,\n",
              "        89.78880037, 122.83149993, 154.7099013 , 111.57320038,\n",
              "       106.65099975, 162.09990134, 118.77599981, 165.53089947,\n",
              "       134.24380102, 115.05789957, 153.03949927, 168.74960066,\n",
              "       115.69769992, 114.04670152, 158.99459918,  85.45859919,\n",
              "       127.1060999 , 127.97360039, 128.97139926, 124.31860068,\n",
              "       123.81830042,  90.59780042, 153.38780027,  97.03319989,\n",
              "       137.96159949,  89.24099922, 107.34989993, 114.97760072,\n",
              "       112.67320062, 124.34309943,  91.3957989 , 125.57420143,\n",
              "       162.46379788, 119.77729905, 165.10160092, 126.65279806,\n",
              "       112.11800019, 127.62759966,  95.12059906,  91.09359984,\n",
              "       103.3406993 , 120.92000008,  83.6700996 , 126.36750018,\n",
              "       160.5815051 , 117.31450097, 118.37979973, 120.08660021,\n",
              "       122.86419972, 120.12850127, 121.49609994, 118.2701004 ,\n",
              "       107.19349995, 148.02599921, 126.33769814, 115.48250037,\n",
              "        74.25569997, 127.86970139, 153.20470039, 122.85130014,\n",
              "       125.55490071,  88.83910024, 104.90399898, 125.04290059,\n",
              "       120.28550005,  73.50420098, 151.47250018, 121.11540019,\n",
              "       104.73190001,  86.60209793, 115.20709918, 172.22349824,\n",
              "       120.26590031, 159.35999757, 113.25859957, 121.00929995,\n",
              "       118.5466012 ,  96.05669984, 118.3591004 , 125.96430073,\n",
              "       118.45359968,  96.0703004 , 154.03340189, 122.36980043,\n",
              "       147.65879966, 159.63650197, 113.56809992, 122.57149903,\n",
              "       150.46319857, 127.11380038, 165.73360063, 136.01539967,\n",
              "       119.92959973, 167.70049915, 108.3951992 , 121.74499875,\n",
              "       138.84440173, 106.08949903])"
            ]
          },
          "metadata": {},
          "execution_count": 19
        }
      ],
      "source": [
        "test_pridication=regressor.predict(x_test)\n",
        "test_pridication"
      ]
    },
    {
      "cell_type": "code",
      "source": [
        "cv = ShuffleSplit(n_splits=5,test_size=0.2,random_state=0)\n",
        "cross_val_score(RandomForestRegressor(),x,y,cv=cv)"
      ],
      "metadata": {
        "colab": {
          "base_uri": "https://localhost:8080/"
        },
        "id": "YBy4WStAnVVb",
        "outputId": "e520ad95-5265-4a21-b00e-0e26a867fb19"
      },
      "execution_count": 24,
      "outputs": [
        {
          "output_type": "execute_result",
          "data": {
            "text/plain": [
              "array([0.990201  , 0.99179927, 0.98879815, 0.99305555, 0.98974636])"
            ]
          },
          "metadata": {},
          "execution_count": 24
        }
      ]
    },
    {
      "cell_type": "code",
      "source": [],
      "metadata": {
        "id": "TBu2ZZ86oDuh"
      },
      "execution_count": null,
      "outputs": []
    }
  ],
  "metadata": {
    "kernelspec": {
      "display_name": "Python 3.9.13 64-bit (windows store)",
      "language": "python",
      "name": "python3"
    },
    "language_info": {
      "codemirror_mode": {
        "name": "ipython",
        "version": 3
      },
      "file_extension": ".py",
      "mimetype": "text/x-python",
      "name": "python",
      "nbconvert_exporter": "python",
      "pygments_lexer": "ipython3",
      "version": "3.9.13"
    },
    "orig_nbformat": 4,
    "vscode": {
      "interpreter": {
        "hash": "026b34853d01b5990fcb5d75369e4aa974272336ff9bda91cba466e1a7a05037"
      }
    },
    "colab": {
      "provenance": [],
      "include_colab_link": true
    }
  },
  "nbformat": 4,
  "nbformat_minor": 0
}